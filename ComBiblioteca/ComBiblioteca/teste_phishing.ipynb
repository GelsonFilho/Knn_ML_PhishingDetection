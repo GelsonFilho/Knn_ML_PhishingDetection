{
 "cells": [
  {
   "cell_type": "markdown",
   "metadata": {},
   "source": [
    "## Importando bibliotecas que usaremos"
   ]
  },
  {
   "cell_type": "code",
   "execution_count": 88,
   "metadata": {},
   "outputs": [],
   "source": [
    "# Bibliotecas para ler/manipular/ver nossos dados\n",
    "import pandas as pd\n",
    "import numpy as np\n",
    "import matplotlib.pyplot as plt\n",
    "import seaborn as sns\n",
    "\n",
    "# Biblioteca para criar nosso modelo de ML\n",
    "from sklearn import preprocessing, model_selection, neighbors\n",
    "from sklearn.preprocessing import StandardScaler\n",
    "\n",
    "# Biblioteca para plotar nosso modelo\n",
    "from mlxtend.plotting import plot_decision_regions"
   ]
  },
  {
   "cell_type": "markdown",
   "metadata": {},
   "source": [
    "## Análise básica do dataset"
   ]
  },
  {
   "cell_type": "markdown",
   "metadata": {},
   "source": [
    "Lendo o arquivo csv"
   ]
  },
  {
   "cell_type": "code",
   "execution_count": 89,
   "metadata": {},
   "outputs": [],
   "source": [
    "df = pd.read_csv('PhishingData.csv')"
   ]
  },
  {
   "cell_type": "markdown",
   "metadata": {},
   "source": [
    "Printando as primeiras linhas"
   ]
  },
  {
   "cell_type": "code",
   "execution_count": 90,
   "metadata": {},
   "outputs": [
    {
     "data": {
      "text/html": [
       "<div>\n",
       "<style scoped>\n",
       "    .dataframe tbody tr th:only-of-type {\n",
       "        vertical-align: middle;\n",
       "    }\n",
       "\n",
       "    .dataframe tbody tr th {\n",
       "        vertical-align: top;\n",
       "    }\n",
       "\n",
       "    .dataframe thead th {\n",
       "        text-align: right;\n",
       "    }\n",
       "</style>\n",
       "<table border=\"1\" class=\"dataframe\">\n",
       "  <thead>\n",
       "    <tr style=\"text-align: right;\">\n",
       "      <th></th>\n",
       "      <th>SFH</th>\n",
       "      <th>popUpWidnow</th>\n",
       "      <th>SSLfinal_State</th>\n",
       "      <th>Request_URL</th>\n",
       "      <th>URL_of_Anchor</th>\n",
       "      <th>web_traffic</th>\n",
       "      <th>URL_Length</th>\n",
       "      <th>age_of_domain</th>\n",
       "      <th>having_IP_Address</th>\n",
       "      <th>Result</th>\n",
       "    </tr>\n",
       "  </thead>\n",
       "  <tbody>\n",
       "    <tr>\n",
       "      <th>0</th>\n",
       "      <td>1</td>\n",
       "      <td>-1</td>\n",
       "      <td>1</td>\n",
       "      <td>-1</td>\n",
       "      <td>-1</td>\n",
       "      <td>1</td>\n",
       "      <td>1</td>\n",
       "      <td>1</td>\n",
       "      <td>0</td>\n",
       "      <td>0</td>\n",
       "    </tr>\n",
       "    <tr>\n",
       "      <th>1</th>\n",
       "      <td>-1</td>\n",
       "      <td>-1</td>\n",
       "      <td>-1</td>\n",
       "      <td>-1</td>\n",
       "      <td>-1</td>\n",
       "      <td>0</td>\n",
       "      <td>1</td>\n",
       "      <td>1</td>\n",
       "      <td>1</td>\n",
       "      <td>1</td>\n",
       "    </tr>\n",
       "    <tr>\n",
       "      <th>2</th>\n",
       "      <td>1</td>\n",
       "      <td>-1</td>\n",
       "      <td>0</td>\n",
       "      <td>0</td>\n",
       "      <td>-1</td>\n",
       "      <td>0</td>\n",
       "      <td>-1</td>\n",
       "      <td>1</td>\n",
       "      <td>0</td>\n",
       "      <td>1</td>\n",
       "    </tr>\n",
       "    <tr>\n",
       "      <th>3</th>\n",
       "      <td>1</td>\n",
       "      <td>0</td>\n",
       "      <td>1</td>\n",
       "      <td>-1</td>\n",
       "      <td>-1</td>\n",
       "      <td>0</td>\n",
       "      <td>1</td>\n",
       "      <td>1</td>\n",
       "      <td>0</td>\n",
       "      <td>0</td>\n",
       "    </tr>\n",
       "    <tr>\n",
       "      <th>4</th>\n",
       "      <td>-1</td>\n",
       "      <td>-1</td>\n",
       "      <td>1</td>\n",
       "      <td>-1</td>\n",
       "      <td>0</td>\n",
       "      <td>0</td>\n",
       "      <td>-1</td>\n",
       "      <td>1</td>\n",
       "      <td>0</td>\n",
       "      <td>1</td>\n",
       "    </tr>\n",
       "  </tbody>\n",
       "</table>\n",
       "</div>"
      ],
      "text/plain": [
       "   SFH  popUpWidnow  SSLfinal_State  Request_URL  URL_of_Anchor  web_traffic  \\\n",
       "0    1           -1               1           -1             -1            1   \n",
       "1   -1           -1              -1           -1             -1            0   \n",
       "2    1           -1               0            0             -1            0   \n",
       "3    1            0               1           -1             -1            0   \n",
       "4   -1           -1               1           -1              0            0   \n",
       "\n",
       "   URL_Length  age_of_domain  having_IP_Address  Result  \n",
       "0           1              1                  0       0  \n",
       "1           1              1                  1       1  \n",
       "2          -1              1                  0       1  \n",
       "3           1              1                  0       0  \n",
       "4          -1              1                  0       1  "
      ]
     },
     "execution_count": 90,
     "metadata": {},
     "output_type": "execute_result"
    }
   ],
   "source": [
    "df.head()"
   ]
  },
  {
   "cell_type": "markdown",
   "metadata": {},
   "source": [
    "Vendo algumas informações com `.info()` e `.describe()`"
   ]
  },
  {
   "cell_type": "code",
   "execution_count": 91,
   "metadata": {},
   "outputs": [
    {
     "name": "stdout",
     "output_type": "stream",
     "text": [
      "<class 'pandas.core.frame.DataFrame'>\n",
      "RangeIndex: 1353 entries, 0 to 1352\n",
      "Data columns (total 10 columns):\n",
      " #   Column             Non-Null Count  Dtype\n",
      "---  ------             --------------  -----\n",
      " 0   SFH                1353 non-null   int64\n",
      " 1   popUpWidnow        1353 non-null   int64\n",
      " 2   SSLfinal_State     1353 non-null   int64\n",
      " 3   Request_URL        1353 non-null   int64\n",
      " 4   URL_of_Anchor      1353 non-null   int64\n",
      " 5   web_traffic        1353 non-null   int64\n",
      " 6   URL_Length         1353 non-null   int64\n",
      " 7   age_of_domain      1353 non-null   int64\n",
      " 8   having_IP_Address  1353 non-null   int64\n",
      " 9   Result             1353 non-null   int64\n",
      "dtypes: int64(10)\n",
      "memory usage: 105.8 KB\n"
     ]
    }
   ],
   "source": [
    "df.info()"
   ]
  },
  {
   "cell_type": "code",
   "execution_count": 92,
   "metadata": {},
   "outputs": [
    {
     "data": {
      "text/html": [
       "<div>\n",
       "<style scoped>\n",
       "    .dataframe tbody tr th:only-of-type {\n",
       "        vertical-align: middle;\n",
       "    }\n",
       "\n",
       "    .dataframe tbody tr th {\n",
       "        vertical-align: top;\n",
       "    }\n",
       "\n",
       "    .dataframe thead th {\n",
       "        text-align: right;\n",
       "    }\n",
       "</style>\n",
       "<table border=\"1\" class=\"dataframe\">\n",
       "  <thead>\n",
       "    <tr style=\"text-align: right;\">\n",
       "      <th></th>\n",
       "      <th>SFH</th>\n",
       "      <th>popUpWidnow</th>\n",
       "      <th>SSLfinal_State</th>\n",
       "      <th>Request_URL</th>\n",
       "      <th>URL_of_Anchor</th>\n",
       "      <th>web_traffic</th>\n",
       "      <th>URL_Length</th>\n",
       "      <th>age_of_domain</th>\n",
       "      <th>having_IP_Address</th>\n",
       "      <th>Result</th>\n",
       "    </tr>\n",
       "  </thead>\n",
       "  <tbody>\n",
       "    <tr>\n",
       "      <th>count</th>\n",
       "      <td>1353.000000</td>\n",
       "      <td>1353.000000</td>\n",
       "      <td>1353.000000</td>\n",
       "      <td>1353.000000</td>\n",
       "      <td>1353.000000</td>\n",
       "      <td>1353.000000</td>\n",
       "      <td>1353.000000</td>\n",
       "      <td>1353.000000</td>\n",
       "      <td>1353.000000</td>\n",
       "      <td>1353.000000</td>\n",
       "    </tr>\n",
       "    <tr>\n",
       "      <th>mean</th>\n",
       "      <td>0.237990</td>\n",
       "      <td>-0.258684</td>\n",
       "      <td>0.327421</td>\n",
       "      <td>-0.223208</td>\n",
       "      <td>-0.025129</td>\n",
       "      <td>0.000000</td>\n",
       "      <td>-0.053215</td>\n",
       "      <td>0.219512</td>\n",
       "      <td>0.114560</td>\n",
       "      <td>-0.113821</td>\n",
       "    </tr>\n",
       "    <tr>\n",
       "      <th>std</th>\n",
       "      <td>0.916389</td>\n",
       "      <td>0.679072</td>\n",
       "      <td>0.822193</td>\n",
       "      <td>0.799682</td>\n",
       "      <td>0.936262</td>\n",
       "      <td>0.806776</td>\n",
       "      <td>0.762552</td>\n",
       "      <td>0.975970</td>\n",
       "      <td>0.318608</td>\n",
       "      <td>0.954773</td>\n",
       "    </tr>\n",
       "    <tr>\n",
       "      <th>min</th>\n",
       "      <td>-1.000000</td>\n",
       "      <td>-1.000000</td>\n",
       "      <td>-1.000000</td>\n",
       "      <td>-1.000000</td>\n",
       "      <td>-1.000000</td>\n",
       "      <td>-1.000000</td>\n",
       "      <td>-1.000000</td>\n",
       "      <td>-1.000000</td>\n",
       "      <td>0.000000</td>\n",
       "      <td>-1.000000</td>\n",
       "    </tr>\n",
       "    <tr>\n",
       "      <th>25%</th>\n",
       "      <td>-1.000000</td>\n",
       "      <td>-1.000000</td>\n",
       "      <td>0.000000</td>\n",
       "      <td>-1.000000</td>\n",
       "      <td>-1.000000</td>\n",
       "      <td>-1.000000</td>\n",
       "      <td>-1.000000</td>\n",
       "      <td>-1.000000</td>\n",
       "      <td>0.000000</td>\n",
       "      <td>-1.000000</td>\n",
       "    </tr>\n",
       "    <tr>\n",
       "      <th>50%</th>\n",
       "      <td>1.000000</td>\n",
       "      <td>0.000000</td>\n",
       "      <td>1.000000</td>\n",
       "      <td>0.000000</td>\n",
       "      <td>0.000000</td>\n",
       "      <td>0.000000</td>\n",
       "      <td>0.000000</td>\n",
       "      <td>1.000000</td>\n",
       "      <td>0.000000</td>\n",
       "      <td>-1.000000</td>\n",
       "    </tr>\n",
       "    <tr>\n",
       "      <th>75%</th>\n",
       "      <td>1.000000</td>\n",
       "      <td>0.000000</td>\n",
       "      <td>1.000000</td>\n",
       "      <td>0.000000</td>\n",
       "      <td>1.000000</td>\n",
       "      <td>1.000000</td>\n",
       "      <td>1.000000</td>\n",
       "      <td>1.000000</td>\n",
       "      <td>0.000000</td>\n",
       "      <td>1.000000</td>\n",
       "    </tr>\n",
       "    <tr>\n",
       "      <th>max</th>\n",
       "      <td>1.000000</td>\n",
       "      <td>1.000000</td>\n",
       "      <td>1.000000</td>\n",
       "      <td>1.000000</td>\n",
       "      <td>1.000000</td>\n",
       "      <td>1.000000</td>\n",
       "      <td>1.000000</td>\n",
       "      <td>1.000000</td>\n",
       "      <td>1.000000</td>\n",
       "      <td>1.000000</td>\n",
       "    </tr>\n",
       "  </tbody>\n",
       "</table>\n",
       "</div>"
      ],
      "text/plain": [
       "               SFH  popUpWidnow  SSLfinal_State  Request_URL  URL_of_Anchor  \\\n",
       "count  1353.000000  1353.000000     1353.000000  1353.000000    1353.000000   \n",
       "mean      0.237990    -0.258684        0.327421    -0.223208      -0.025129   \n",
       "std       0.916389     0.679072        0.822193     0.799682       0.936262   \n",
       "min      -1.000000    -1.000000       -1.000000    -1.000000      -1.000000   \n",
       "25%      -1.000000    -1.000000        0.000000    -1.000000      -1.000000   \n",
       "50%       1.000000     0.000000        1.000000     0.000000       0.000000   \n",
       "75%       1.000000     0.000000        1.000000     0.000000       1.000000   \n",
       "max       1.000000     1.000000        1.000000     1.000000       1.000000   \n",
       "\n",
       "       web_traffic   URL_Length  age_of_domain  having_IP_Address       Result  \n",
       "count  1353.000000  1353.000000    1353.000000        1353.000000  1353.000000  \n",
       "mean      0.000000    -0.053215       0.219512           0.114560    -0.113821  \n",
       "std       0.806776     0.762552       0.975970           0.318608     0.954773  \n",
       "min      -1.000000    -1.000000      -1.000000           0.000000    -1.000000  \n",
       "25%      -1.000000    -1.000000      -1.000000           0.000000    -1.000000  \n",
       "50%       0.000000     0.000000       1.000000           0.000000    -1.000000  \n",
       "75%       1.000000     1.000000       1.000000           0.000000     1.000000  \n",
       "max       1.000000     1.000000       1.000000           1.000000     1.000000  "
      ]
     },
     "execution_count": 92,
     "metadata": {},
     "output_type": "execute_result"
    }
   ],
   "source": [
    "df.describe()"
   ]
  },
  {
   "cell_type": "markdown",
   "metadata": {},
   "source": [
    "## Aplicando modelo de Machine Learning: KNN"
   ]
  },
  {
   "cell_type": "markdown",
   "metadata": {},
   "source": [
    "Definindo colunas de features (X) e targets (y)"
   ]
  },
  {
   "cell_type": "code",
   "execution_count": 93,
   "metadata": {},
   "outputs": [
    {
     "name": "stderr",
     "output_type": "stream",
     "text": [
      "C:\\Users\\Lenovo\\AppData\\Local\\Temp\\ipykernel_25536\\146368618.py:2: FutureWarning: In a future version of pandas all arguments of DataFrame.drop except for the argument 'labels' will be keyword-only.\n",
      "  X = np.array(df.drop(['Result'], 1))\n"
     ]
    }
   ],
   "source": [
    "# Colunas dos \"features\"\n",
    "X = np.array(df.drop(['Result'], 1))\n",
    "\n",
    "# Colunas do \"target\"\n",
    "y = np.array(df['Result'])"
   ]
  },
  {
   "cell_type": "markdown",
   "metadata": {},
   "source": [
    "Separando o Dataset em treino e teste\n",
    "Como os dados já foram categorizados anteriormente não há a necessidade de fazer a normalização\n",
    "Pois os dados já estão normalizados (os dados sempre são -1, 0 ou 1)"
   ]
  },
  {
   "cell_type": "code",
   "execution_count": 105,
   "metadata": {},
   "outputs": [],
   "source": [
    "X_train, X_test, y_train, y_test = model_selection.train_test_split(\n",
    "                                                    X, y, test_size = 0.2, random_state=0)"
   ]
  },
  {
   "cell_type": "markdown",
   "metadata": {},
   "source": [
    "Definindo nosso modelo (KNN)"
   ]
  },
  {
   "cell_type": "code",
   "execution_count": 95,
   "metadata": {},
   "outputs": [],
   "source": [
    "# clf = neighbors.KNeighborsClassifier(n_neighbors=3, metric='euclidean')\n",
    "clf = neighbors.KNeighborsClassifier(n_neighbors=8, metric='manhattan')\n",
    "#o motivo de utilizar-se o manhattan com k=8 estara nas linhas a seguir"
   ]
  },
  {
   "cell_type": "markdown",
   "metadata": {},
   "source": [
    "Treinando nosso modelo"
   ]
  },
  {
   "cell_type": "code",
   "execution_count": 96,
   "metadata": {},
   "outputs": [
    {
     "data": {
      "text/plain": [
       "KNeighborsClassifier(metric='manhattan', n_neighbors=8)"
      ]
     },
     "execution_count": 96,
     "metadata": {},
     "output_type": "execute_result"
    }
   ],
   "source": [
    "clf.fit(X_train, y_train)"
   ]
  },
  {
   "cell_type": "markdown",
   "metadata": {},
   "source": [
    "Testando sua acurácia no dataset de teste"
   ]
  },
  {
   "cell_type": "code",
   "execution_count": 97,
   "metadata": {},
   "outputs": [
    {
     "name": "stdout",
     "output_type": "stream",
     "text": [
      "Accuracy: 88.19188191881919 %\n"
     ]
    }
   ],
   "source": [
    "accuracy = clf.score(X_test, y_test)\n",
    "print('Accuracy: ' + str(accuracy * 100) + ' %')"
   ]
  },
  {
   "cell_type": "markdown",
   "metadata": {},
   "source": [
    "Gerando Confusion Matrix"
   ]
  },
  {
   "cell_type": "code",
   "execution_count": 98,
   "metadata": {},
   "outputs": [
    {
     "data": {
      "text/plain": [
       "0.8819188191881919"
      ]
     },
     "execution_count": 98,
     "metadata": {},
     "output_type": "execute_result"
    },
    {
     "data": {
      "image/png": "[encoded data removed]",
      "text/plain": [
       "<Figure size 576x396 with 1 Axes>"
      ]
     },
     "metadata": {},
     "output_type": "display_data"
    }
   ],
   "source": [
    "from yellowbrick.classifier import ConfusionMatrix\n",
    "cm = ConfusionMatrix(clf)\n",
    "cm.fit(X_train, y_train)\n",
    "cm.score(X_test, y_test)"
   ]
  },
  {
   "cell_type": "markdown",
   "metadata": {},
   "source": [
    "Gerando a \"Classification Report\""
   ]
  },
  {
   "cell_type": "code",
   "execution_count": 99,
   "metadata": {},
   "outputs": [
    {
     "name": "stdout",
     "output_type": "stream",
     "text": [
      "              precision    recall  f1-score   support\n",
      "\n",
      "          -1       0.88      0.91      0.90       137\n",
      "           0       1.00      0.62      0.76        21\n",
      "           1       0.87      0.89      0.88       113\n",
      "\n",
      "    accuracy                           0.88       271\n",
      "   macro avg       0.92      0.81      0.85       271\n",
      "weighted avg       0.89      0.88      0.88       271\n",
      "\n"
     ]
    }
   ],
   "source": [
    "from sklearn.metrics import classification_report\n",
    "previsoes_classificadas = clf.predict(X_test)\n",
    "print(classification_report(y_test, previsoes_classificadas))"
   ]
  },
  {
   "cell_type": "markdown",
   "metadata": {},
   "source": [
    "## Otimizando os parâmetros de treinamento\n",
    "* O valor de 'k' ideal\n",
    "* A métrica ideal a ser utilizada"
   ]
  },
  {
   "cell_type": "code",
   "execution_count": 101,
   "metadata": {},
   "outputs": [
    {
     "data": {
      "text/plain": [
       "[<matplotlib.lines.Line2D at 0x1cdc1acdcd0>]"
      ]
     },
     "execution_count": 101,
     "metadata": {},
     "output_type": "execute_result"
    },
    {
     "data": {
      "image/png": "[encoded data removed]",
      "text/plain": [
       "<Figure size 576x396 with 1 Axes>"
      ]
     },
     "metadata": {},
     "output_type": "display_data"
    }
   ],
   "source": [
    "#incluindo mais uma função do sklearn\n",
    "from sklearn.model_selection import GridSearchCV \n",
    "\n",
    "#criando uma lista de 1 a 25 para testes de possiveis 'k'\n",
    "#utilizando métrica da distancia euclidiana\n",
    "k_list = list(range(1,25))\n",
    "metric_list = [ 'euclidean']\n",
    "parameters = {'n_neighbors':k_list,'metric':metric_list}\n",
    "\n",
    "#aqui é testado os parametros com base no score de acurácia\n",
    "grid = GridSearchCV(clf,parameters,cv=5,scoring='accuracy')\n",
    "grid.fit(X,y) \n",
    "\n",
    "#obtedo o resultado e armazenando em um dataframe\n",
    "scores = pd.DataFrame(grid.cv_results_)\n",
    "\n",
    "#plotando no gráfico para visualização\n",
    "plt.plot(k_list,scores['mean_test_score'],marker='o')"
   ]
  },
  {
   "cell_type": "code",
   "execution_count": 102,
   "metadata": {},
   "outputs": [
    {
     "data": {
      "text/plain": [
       "[<matplotlib.lines.Line2D at 0x1cdc1b53a60>]"
      ]
     },
     "execution_count": 102,
     "metadata": {},
     "output_type": "execute_result"
    },
    {
     "data": {
      "image/png": "[encoded data removed]",
      "text/plain": [
       "<Figure size 576x396 with 1 Axes>"
      ]
     },
     "metadata": {},
     "output_type": "display_data"
    }
   ],
   "source": [
    "#incluindo mais uma função do sklearn\n",
    "from sklearn.model_selection import GridSearchCV \n",
    "\n",
    "#criando uma lista de 1 a 25 para testes de possiveis 'k'\n",
    "#utilizando métrica de distancia de hamming\n",
    "k_list = list(range(1,25))\n",
    "metric_list = ['hamming']\n",
    "parameters = {'n_neighbors':k_list,'metric':metric_list}\n",
    "\n",
    "#aqui é testado os parametros com base no score de acurácia\n",
    "grid = GridSearchCV(clf,parameters,cv=5,scoring='accuracy')\n",
    "grid.fit(X,y) \n",
    "\n",
    "#obtedo o resultado e armazenando em um dataframe\n",
    "scores = pd.DataFrame(grid.cv_results_)\n",
    "\n",
    "#plotando no gráfico para visualização\n",
    "plt.plot(k_list,scores['mean_test_score'],marker='o')"
   ]
  },
  {
   "cell_type": "code",
   "execution_count": 103,
   "metadata": {},
   "outputs": [
    {
     "data": {
      "text/plain": [
       "[<matplotlib.lines.Line2D at 0x1cdc1bb3a30>]"
      ]
     },
     "execution_count": 103,
     "metadata": {},
     "output_type": "execute_result"
    },
    {
     "data": {
      "image/png": "[encoded data removed]",
      "text/plain": [
       "<Figure size 576x396 with 1 Axes>"
      ]
     },
     "metadata": {},
     "output_type": "display_data"
    }
   ],
   "source": [
    "#incluindo mais uma função do sklearn\n",
    "from sklearn.model_selection import GridSearchCV \n",
    "\n",
    "#criando uma lista de 1 a 25 para testes de possiveis 'k'\n",
    "#utilizando métrica de distancia de matching\n",
    "k_list = list(range(1,25))\n",
    "metric_list = ['matching']\n",
    "parameters = {'n_neighbors':k_list,'metric':metric_list}\n",
    "\n",
    "#aqui é testado os parametros com base no score de acurácia\n",
    "grid = GridSearchCV(clf,parameters,cv=5,scoring='accuracy')\n",
    "grid.fit(X,y) \n",
    "\n",
    "#obtedo o resultado e armazenando em um dataframe\n",
    "scores = pd.DataFrame(grid.cv_results_)\n",
    "\n",
    "#plotando no gráfico para visualização\n",
    "plt.plot(k_list,scores['mean_test_score'],marker='o')"
   ]
  },
  {
   "cell_type": "code",
   "execution_count": 104,
   "metadata": {},
   "outputs": [
    {
     "name": "stdout",
     "output_type": "stream",
     "text": [
      "Melhor solução: {'metric': 'manhattan', 'n_neighbors': 8}\n"
     ]
    }
   ],
   "source": [
    "#portanto dá pra fazer o teste\n",
    "#das duas coisas ao mesmo tempo\n",
    "#para saber qual K e qual metrica trará o melhor resultado\n",
    "\n",
    "#gerando lista com várias métricas para teste\n",
    "metric_list = [ 'euclidean',\n",
    "                'hamming',\n",
    "                'matching',\n",
    "                'minkowski',\n",
    "                'chebyshev',\n",
    "                'manhattan',\n",
    "                'jaccard',\n",
    "                'dice',\n",
    "                'kulsinski',\n",
    "                'rogerstanimoto',\n",
    "                'russellrao',\n",
    "                'sokalmichener',\n",
    "                'sokalsneath',\n",
    "                'braycurtis',\n",
    "                'canberra']\n",
    "\n",
    "#gerando lista com k de 1 ate 25\n",
    "k_list = list(range(1,25))\n",
    "\n",
    "#gerando o dicionario com todos os parametros que deseja testar entre si\n",
    "parameters = {'n_neighbors':k_list,'metric':metric_list}\n",
    "\n",
    "#aqui mudamos o cv de 5 (que é o padrão) para 10\n",
    "#na tentativa e erro percebeu-se uma melhora quando cv = 10\n",
    "#por meio da estratégia Kfold o dataset é dividido entre 10 partes\n",
    "#para fazer 10 testes diferentes\n",
    "#entre os dados de treino e os dados de teste\n",
    "#baseando-se sempre na acurácia\n",
    "grid = GridSearchCV(clf,parameters,cv=10,scoring='accuracy')\n",
    "grid.fit(X,y) #treinando\n",
    "scores = pd.DataFrame(grid.cv_results_) #capturando os score em um dataframe\n",
    "\n",
    "# capturando logo o melhor parametro ja que o gráfico agora\n",
    "# não poderá ser gerado por excesso de dados\n",
    "print(\"Melhor solução: \"+ str(grid.best_params_))\n"
   ]
  }
 ],
 "metadata": {
  "kernelspec": {
   "display_name": "Python 3.9.12 ('base')",
   "language": "python",
   "name": "python3"
  },
  "language_info": {
   "codemirror_mode": {
    "name": "ipython",
    "version": 3
   },
   "file_extension": ".py",
   "mimetype": "text/x-python",
   "name": "python",
   "nbconvert_exporter": "python",
   "pygments_lexer": "ipython3",
   "version": "3.9.12"
  },
  "vscode": {
   "interpreter": {
    "hash": "20a9e06a1eee47c4abbed4ec8225ad91d78d9800d202b71b6b0a6e47016c6abd"
   }
  }
 },
 "nbformat": 4,
 "nbformat_minor": 4
}
